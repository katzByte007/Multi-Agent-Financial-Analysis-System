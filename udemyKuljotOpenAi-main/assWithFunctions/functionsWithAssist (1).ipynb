{
 "cells": [
  {
   "cell_type": "code",
   "execution_count": null,
   "id": "fd14d088",
   "metadata": {},
   "outputs": [],
   "source": [
    "#importing important utilities and libraries\n",
    "import os\n",
    "import openai\n",
    "import json\n",
    "import requests\n",
    "import time\n",
    "from openai import AzureOpenAI\n",
    "import dotenv\n",
    "from dotenv import load_dotenv\n",
    "import pandas as pd\n",
    "from IPython.display import clear_output\n"
   ]
  },
  {
   "cell_type": "code",
   "execution_count": null,
   "id": "b8cdc397",
   "metadata": {},
   "outputs": [],
   "source": [
    "#defining a function for getting the stock price dataset of a particular company\n",
    "def get_stock_price(company):\n",
    "    url = \"https://www.alphavantage.co/query?function=TIME_SERIES_DAILY&symbol=\"+company+\"&apikey=\"+os.getenv(\"ALPHA_VANTAGE_API_KEY\")\n",
    "    response = requests.get(url).json()\n",
    "    volume = response['Time Series (Daily)']['2024-02-23']['5. volume']\n",
    "    high = response['Time Series (Daily)']['2024-02-23']['2. high']\n",
    "    low = response['Time Series (Daily)']['2024-02-23']['3. low']\n",
    "    close  = response['Time Series (Daily)']['2024-02-23']['4. close']\n",
    "    output_response = f\"\"\"here are some details of the stock price of the company {company}:\n",
    "                date : 2024-02-23\n",
    "                volume : {volume}\n",
    "                high : {high}\n",
    "                low : {low}\n",
    "                close : {close}\n",
    "                \"\"\"\n",
    "    return output_response\n",
    "\n",
    "\n",
    "   "
   ]
  },
  {
   "cell_type": "code",
   "execution_count": null,
   "id": "6be5b7c6",
   "metadata": {},
   "outputs": [],
   "source": [
    "\n",
    "load_dotenv()\n",
    "    #creating azure openai client\n",
    "client = AzureOpenAI(\n",
    "    api_key=os.getenv(\"API_KEY\"),\n",
    "    api_version=\"2024-02-15-preview\",\n",
    "    azure_endpoint=os.getenv(\"ENDPOINT\")\n",
    " )"
   ]
  },
  {
   "cell_type": "code",
   "execution_count": null,
   "id": "81bb12ff",
   "metadata": {},
   "outputs": [],
   "source": [
    "#creating an openai assistant\n",
    "assistant = client.beta.assistants.create(\n",
    "    instructions=\"You are a stock bot. Use the provided functions to answer the questions/user queries\",\n",
    "    model = os.getenv(\"MODEL\"),\n",
    "    tools=[{\n",
    "      \"type\": \"function\",\n",
    "    \"function\": {\n",
    "      \"name\": \"get_stock_price\",\n",
    "      \"description\": \"get the stock price of the company that the user is interested in\",\n",
    "      \"parameters\": {\n",
    "        \"type\": \"object\",\n",
    "        \"properties\": {\n",
    "          \"company\": {\n",
    "              \"type\": \"string\",\n",
    "              \"description\": \"the company whose stock price the user is interested in for instance 'IBM' or 'AAPL'\"\n",
    "              },\n",
    "          \n",
    "        },\n",
    "        \"required\": [\"company\"]\n",
    "        \n",
    "      }\n",
    "    }\n",
    "  }]\n",
    " )"
   ]
  },
  {
   "cell_type": "code",
   "execution_count": null,
   "id": "c32a2cdc",
   "metadata": {},
   "outputs": [],
   "source": [
    "thread = client.beta.threads.create()\n",
    " \n",
    "message = client.beta.threads.messages.create(\n",
    "    thread_id=thread.id,\n",
    "    role=\"user\",\n",
    "    content = \"provide me the stock data for IBM\",\n",
    "    \n",
    " )\n",
    " \n",
    "run = client.beta.threads.runs.create(\n",
    "  thread_id=thread.id,\n",
    "  assistant_id=assistant.id,\n",
    "  \n",
    ")"
   ]
  },
  {
   "cell_type": "code",
   "execution_count": null,
   "id": "83041690",
   "metadata": {},
   "outputs": [],
   "source": [
    "run = client.beta.threads.runs.retrieve(\n",
    "  thread_id=thread.id,\n",
    "  run_id=run.id\n",
    " )\n",
    " \n",
    "status = run.status\n",
    "\n",
    "start_time = time.time()\n",
    "\n",
    "while status not in [\"completed\", \"cancelled\", \"expired\", \"failed\" , \"requires_action\"]:\n",
    "    time.sleep(5)\n",
    "    run = client.beta.threads.runs.retrieve(thread_id=thread.id,run_id=run.id)\n",
    "    print(\"Elapsed time: {} minutes {} seconds\".format(int((time.time() - start_time) // 60), int((time.time() - start_time) % 60)))\n",
    "    status = run.status\n",
    "    print(f'Status: {status}')\n",
    "    clear_output(wait=True)"
   ]
  },
  {
   "cell_type": "code",
   "execution_count": null,
   "id": "bdea4e09",
   "metadata": {},
   "outputs": [],
   "source": [
    "if(status == \"requires_action\"):\n",
    "     initial_response = json.loads(run.model_dump_json(indent=2))\n",
    "     function_name = initial_response['required_action']['submit_tool_outputs']['tool_calls'][0]['function']['name']\n",
    "     function_arguments = initial_response['required_action']['submit_tool_outputs']['tool_calls'][0]['function']['arguments']\n",
    "     company_name = json.loads(function_arguments)['company']\n",
    "     call_id=initial_response['required_action']['submit_tool_outputs']['tool_calls'][0]['id']\n",
    "     func=globals().get(function_name)\n",
    "     output = func(company_name)\n",
    "     run = client.beta.threads.runs.submit_tool_outputs(\n",
    "             thread_id=thread.id,\n",
    "             run_id=run.id,\n",
    "             tool_outputs=[{\n",
    "                 \"tool_call_id\": call_id,\n",
    "                 \"output\": output,\n",
    "             }]\n",
    "     )\n",
    "     print(run.status)\n",
    "     run=client.beta.threads.runs.retrieve(thread_id=thread.id,run_id=run.id)\n",
    "     status=run.status\n",
    "     while status not in [\"completed\", \"cancelled\", \"expired\", \"failed\" , \"requires_action\"]:\n",
    "      time.sleep(5)\n",
    "      run = client.beta.threads.runs.retrieve(thread_id=thread.id,run_id=run.id)\n",
    "      status = run.status\n",
    "     "
   ]
  },
  {
   "cell_type": "code",
   "execution_count": null,
   "id": "18d10164",
   "metadata": {},
   "outputs": [],
   "source": [
    "messages = client.beta.threads.messages.list(\n",
    "  thread_id=thread.id\n",
    ")\n",
    " \n",
    "final_message = json.loads(messages.model_dump_json(indent=2))\n",
    "print(final_message['data'][0]['content'][0]['text']['value'])"
   ]
  }
 ],
 "metadata": {
  "kernelspec": {
   "display_name": "Python 3 (ipykernel)",
   "language": "python",
   "name": "python3"
  },
  "language_info": {
   "codemirror_mode": {
    "name": "ipython",
    "version": 3
   },
   "file_extension": ".py",
   "mimetype": "text/x-python",
   "name": "python",
   "nbconvert_exporter": "python",
   "pygments_lexer": "ipython3",
   "version": "3.11.5"
  }
 },
 "nbformat": 4,
 "nbformat_minor": 5
}
