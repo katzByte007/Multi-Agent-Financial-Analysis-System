{
 "cells": [
  {
   "cell_type": "code",
   "execution_count": null,
   "id": "f54f2524",
   "metadata": {},
   "outputs": [],
   "source": [
    "#importing important utilities and libraries\n",
    "import os\n",
    "import tiktoken\n",
    "from openai import AzureOpenAI\n",
    "import json\n",
    "import PyPDF2\n",
    "from dotenv import load_dotenv\n",
    "import math"
   ]
  },
  {
   "cell_type": "code",
   "execution_count": 1,
   "id": "f61fcf49",
   "metadata": {},
   "outputs": [],
   "source": [
    "#defining a function to count number of tokens using the tiktoken function\n",
    "def num_tokens_from_string(string: str, encoding_name: str) -> int:\n",
    "    \"\"\"Returns the number of tokens in a text string.\"\"\"\n",
    "    encoding = tiktoken.get_encoding(encoding_name)\n",
    "    num_tokens = len(encoding.encode(string))\n",
    "    return num_tokens"
   ]
  },
  {
   "cell_type": "code",
   "execution_count": null,
   "id": "d674f8c6",
   "metadata": {},
   "outputs": [],
   "source": [
    "#using PyPDF2 library to read/extract the text from the PDF document \n",
    "reader = PyPDF2.PdfReader('document.pdf')\n",
    "query=\"\"\n",
    "for pages in reader.pages:\n",
    "    query = query + pages.extract_text()\n",
    "print(num_tokens_from_string(query, \"cl100k_base\"))"
   ]
  },
  {
   "cell_type": "code",
   "execution_count": null,
   "id": "dd74a205",
   "metadata": {},
   "outputs": [],
   "source": [
    "#establishing a connection to the Azure OpenAI client\n",
    "load_dotenv()\n",
    "client = AzureOpenAI(\n",
    "    azure_endpoint=os.getenv('AZURE_OPENAI_ENDPOINT'),\n",
    "    api_key=os.getenv('AZURE_OPENAI_KEY'),\n",
    "    api_version=\"2024-02-15-preview\"\n",
    ")"
   ]
  },
  {
   "cell_type": "code",
   "execution_count": null,
   "id": "1f13a0f3",
   "metadata": {},
   "outputs": [],
   "source": [
    "#making a call to our chat engine\n",
    "response = client.chat.completions.create(\n",
    "    model=os.getenv('MODEL'),\n",
    "    messages=[\n",
    "        {\"role\":\"system\",\"content\":\"You are an ai assistant designed to help people\"},\n",
    "        {\"role\":\"user\",\"content\":\"I am providing you with a content in english \\n\"\n",
    "                                  \"generate a summary of this content \\n\"\n",
    "                                  + query}\n",
    "    ],\n",
    "    temperature=0.7\n",
    ")"
   ]
  },
  {
   "cell_type": "code",
   "execution_count": null,
   "id": "2a5e0e34",
   "metadata": {},
   "outputs": [],
   "source": [
    "#printing the response from our chatEngine\n",
    "print(response.choices[0].message.content)"
   ]
  }
 ],
 "metadata": {
  "kernelspec": {
   "display_name": "Python 3 (ipykernel)",
   "language": "python",
   "name": "python3"
  },
  "language_info": {
   "codemirror_mode": {
    "name": "ipython",
    "version": 3
   },
   "file_extension": ".py",
   "mimetype": "text/x-python",
   "name": "python",
   "nbconvert_exporter": "python",
   "pygments_lexer": "ipython3",
   "version": "3.11.5"
  }
 },
 "nbformat": 4,
 "nbformat_minor": 5
}
