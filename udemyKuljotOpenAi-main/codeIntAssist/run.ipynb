{
 "cells": [
  {
   "cell_type": "code",
   "execution_count": null,
   "id": "b80a9958",
   "metadata": {},
   "outputs": [],
   "source": [
    "#importing important utilities and libraries\n",
    "import json\n",
    "import requests\n",
    "import matplotlib\n",
    "import openai\n",
    "import os\n",
    "from IPython.display import clear_output\n",
    "from openai import AzureOpenAI\n",
    "from PIL import Image\n",
    "import time\n",
    "import pandas as pd\n",
    "import dotenv\n",
    "from dotenv import load_dotenv\n"
   ]
  },
  {
   "cell_type": "code",
   "execution_count": null,
   "id": "53c3e2c3",
   "metadata": {},
   "outputs": [],
   "source": [
    "#creating an Azure OpenAI client\n",
    "load_dotenv()\n",
    "client = AzureOpenAI(\n",
    "    api_key=os.getenv(\"API_KEY\"),\n",
    "    api_version=\"2024-02-15-preview\",\n",
    "    azure_endpoint=os.getenv(\"ENDPOINT\")\n",
    ")"
   ]
  },
  {
   "cell_type": "code",
   "execution_count": null,
   "id": "f1162bc9",
   "metadata": {},
   "outputs": [],
   "source": [
    "#looking at the file that we have at hand\n",
    "df = pd.read_csv(\"stockdataset.csv\",sep=\",\")\n",
    "print(df)\n"
   ]
  },
  {
   "cell_type": "code",
   "execution_count": null,
   "id": "1f76d7e5",
   "metadata": {},
   "outputs": [],
   "source": [
    "#upload a file with the \"assistants\" purpose\n",
    "file = client.files.create(\n",
    "    file = open(\"./stockdataset.csv\", \"rb\"),\n",
    "    purpose = 'assistants'\n",
    ")"
   ]
  },
  {
   "cell_type": "code",
   "execution_count": null,
   "id": "5f3062aa",
   "metadata": {},
   "outputs": [],
   "source": [
    "#create an assistant\n",
    "assistant = client.beta.assistants.create(\n",
    "    name = \"Stock Price Generator\",\n",
    "    instructions = f\"You are a helpful AI assistant makes visualization of the stock price data that has been provided to you by the user\"\n",
    "    f\" You have access to a sandboxed environment for writing and testing code\"\n",
    "    f\" You can make use of all required pythonic libraries\"\n",
    "    f\"When you are required to produce a data visualization, you should follow the following steps\"\n",
    "    f\"1. Write the code\"\n",
    "    f\"Run the code to confirm that it works\"\n",
    "    f\"If the code is successful, display the visualization\"\n",
    "    f\"if the code is unsuccessful, debug the code and run again\",\n",
    "    tools = [\n",
    "        {\"type\":\"code_interpreter\"}\n",
    "    ],\n",
    "    model = os.getenv(\"model\"),\n",
    "    file_ids=[file.id]\n",
    ")"
   ]
  },
  {
   "cell_type": "code",
   "execution_count": null,
   "id": "9bccd4ca",
   "metadata": {},
   "outputs": [],
   "source": [
    "#creating a thread\n",
    "thread  = client.beta.threads.create()\n"
   ]
  },
  {
   "cell_type": "code",
   "execution_count": null,
   "id": "f284317a",
   "metadata": {},
   "outputs": [],
   "source": [
    "#put the user message in the threaded conversation\n",
    "message = client.beta.threads.messages.create(\n",
    "    thread_id=thread.id,\n",
    "    role=\"user\",\n",
    "    content = \"create a visualization of the stock price data\",\n",
    "    file_ids=[file.id]\n",
    ")"
   ]
  },
  {
   "cell_type": "code",
   "execution_count": null,
   "id": "f549b076",
   "metadata": {},
   "outputs": [],
   "source": [
    "\n",
    "#running the thread\n",
    "run = client.beta.threads.runs.create(\n",
    "  thread_id=thread.id,\n",
    "  assistant_id=assistant.id,\n",
    "  \n",
    ")"
   ]
  },
  {
   "cell_type": "code",
   "execution_count": null,
   "id": "e5593272",
   "metadata": {},
   "outputs": [],
   "source": [
    "#retrieving the thread\n",
    "run = client.beta.threads.runs.retrieve(\n",
    "  thread_id=thread.id,\n",
    "  run_id=run.id\n",
    ")"
   ]
  },
  {
   "cell_type": "code",
   "execution_count": null,
   "id": "846235f7",
   "metadata": {},
   "outputs": [],
   "source": [
    "status = run.status\n",
    "\n",
    "start_time = time.time()\n",
    "\n",
    "while status not in [\"completed\", \"cancelled\", \"expired\", \"failed\"]:\n",
    "    time.sleep(5)\n",
    "    run = client.beta.threads.runs.retrieve(thread_id=thread.id,run_id=run.id)\n",
    "    print(\"Elapsed time: {} minutes {} seconds\".format(int((time.time() - start_time) // 60), int((time.time() - start_time) % 60)))\n",
    "    status = run.status\n",
    "    print(f'Status: {status}')\n",
    "    clear_output(wait=True)\n",
    "\n",
    "messages = client.beta.threads.messages.list(\n",
    "  thread_id=thread.id\n",
    ")\n",
    "\n",
    "print(messages.model_dump_json(indent=2))\n",
    "output = json.loads(messages.model_dump_json(indent=2))\n",
    "\n",
    "image_file_id = output['data'][0]['content'][0]['image_file']['file_id']\n",
    "print(image_file_id)\n",
    "\n",
    "content = client.files.content(image_file_id)\n",
    "image= content.write_to_file(\"graph.png\")\n",
    "\n",
    "image= Image.open(\"graph.png\")\n",
    "image.show()"
   ]
  }
 ],
 "metadata": {
  "kernelspec": {
   "display_name": "Python 3 (ipykernel)",
   "language": "python",
   "name": "python3"
  },
  "language_info": {
   "codemirror_mode": {
    "name": "ipython",
    "version": 3
   },
   "file_extension": ".py",
   "mimetype": "text/x-python",
   "name": "python",
   "nbconvert_exporter": "python",
   "pygments_lexer": "ipython3",
   "version": "3.11.5"
  }
 },
 "nbformat": 4,
 "nbformat_minor": 5
}
